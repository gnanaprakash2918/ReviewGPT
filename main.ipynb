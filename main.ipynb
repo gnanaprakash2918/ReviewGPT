{
  "cells": [
    {
      "cell_type": "code",
      "execution_count": 20,
      "metadata": {
        "colab": {
          "base_uri": "https://localhost:8080/"
        },
        "id": "JR2SRlNY9vnz",
        "outputId": "150522b7-dab9-4d6a-bbca-9aefec3823ef"
      },
      "outputs": [
        {
          "output_type": "stream",
          "name": "stdout",
          "text": [
            "ReviewGPT\n",
            "error: src refspec main does not match any\n",
            "\u001b[31merror: failed to push some refs to 'https://github.com/gnanaprakash2918/ReviewGPT'\n",
            "\u001b[m"
          ]
        }
      ],
      "source": [
        "print(\"ReviewGPT\")\n",
        "!git push origin main"
      ]
    }
  ],
  "metadata": {
    "language_info": {
      "name": "python"
    },
    "colab": {
      "provenance": []
    },
    "kernelspec": {
      "name": "python3",
      "display_name": "Python 3"
    }
  },
  "nbformat": 4,
  "nbformat_minor": 0
}