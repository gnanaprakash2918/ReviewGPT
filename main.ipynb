{
  "cells": [
    {
      "cell_type": "markdown",
      "metadata": {
        "id": "view-in-github",
        "colab_type": "text"
      },
      "source": [
        "<a href=\"https://colab.research.google.com/github/gnanaprakash2918/ReviewGPT/blob/main/main.ipynb\" target=\"_parent\"><img src=\"https://colab.research.google.com/assets/colab-badge.svg\" alt=\"Open In Colab\"/></a>"
      ]
    },
    {
      "cell_type": "code",
      "execution_count": 22,
      "metadata": {
        "id": "JR2SRlNY9vnz"
      },
      "outputs": [],
      "source": [
        "from bs4 import BeautifulSoup\n",
        "import requests\n",
        "import time\n",
        "import datetime"
      ]
    },
    {
      "cell_type": "code",
      "source": [
        "URL = \"https://www.amazon.in/ASUS-Zephyrus-i7-12700H-Graphics-GU603ZM-K8035WS/dp/B09WJ88HRZ/?_encoding=UTF8&pd_rd_w=c0wVG&content-id=amzn1.sym.5ee8c642-34d6-4cfc-933c-7214ec67ba53%3Aamzn1.symc.acc592a4-4352-4855-9385-357337847763&pf_rd_p=5ee8c642-34d6-4cfc-933c-7214ec67ba53&pf_rd_r=F0KNQ8RANDXK8QFKJTG9&pd_rd_wg=bacGR&pd_rd_r=4c70c27b-7568-4843-8548-0e519bbf6275&ref_=pd_gw_ci_mcx_mr_hp_d\"\n",
        "URL = \"https://www.amazon.in/Apple-iPhone-512GB-Product-RED/dp/B0BDHY3LFJ/ref=sr_1_4?crid=F5T8XYLM54Z6&dib=eyJ2IjoiMSJ9.Tgfx5m0nuhsge2-N2CnYxxg1BNeJibCE4PiWVsCjnnITTU777Dp_Z1pNj_QfSHcFf48Q0fdXGRPMvSuvTltAuo0eU2fU2dwTD52Iz1f_zD7giiuu_9Kk8XCG8Doks5wL4bxbc9uGaL13G0G6NCIzbC-qS5oM5zjul7e6eNpKVt4RL14O8_JT2vf-jLznsNhw9FrzARb6GZQIQX83GFkaTxqP9RBgFoHLQPxFtqugLBU.y-NhIezqbnGPkm2jOPHds_OguZuzTHpPTvjK-KmL7W4&dib_tag=se&keywords=iphone+14&qid=1708614009&sprefix=iphone+1%2Caps%2C266&sr=8-4\"\n",
        "\n",
        "# https://httpbin.org/get\n",
        "headers = {\n",
        "\"User-Agent\": \"Mozilla/5.0 (Windows NT 10.0; Win64; x64) AppleWebKit/537.36 (KHTML, like Gecko) Chrome/121.0.0.0 Safari/537.36\",\n",
        "    \"X-Amzn-Trace-Id\": \"Root=1-65d74d20-74b6a2084c7d3cc04a12444e\"\n",
        "}\n",
        "\n",
        "page = requests.get(URL, headers=headers)\n",
        "\n",
        "soup1 = BeautifulSoup(page.content, \"html.parser\")\n",
        "soup2 = BeautifulSoup(soup1.prettify(), \"html.parser\")\n",
        "\n",
        "title = soup2.find(id='productTitle').get_text().strip()\n",
        "price = soup2.find(\"span\", attrs={\"class\":\"a-offscreen\"}).text.strip()[1:]\n",
        "\n",
        "print(price)\n"
      ],
      "metadata": {
        "colab": {
          "base_uri": "https://localhost:8080/"
        },
        "id": "DtOcpQcVA_hv",
        "outputId": "e0bf36f3-6430-401e-a1e8-f452a3da2a16"
      },
      "execution_count": 122,
      "outputs": [
        {
          "output_type": "stream",
          "name": "stdout",
          "text": [
            "84,999.00\n"
          ]
        }
      ]
    },
    {
      "cell_type": "code",
      "source": [
        "product_desc_list = soup2.select_one('#productOverview_feature_div').text.split('\\n')\n",
        "tech_desc_list = soup2.select_one('.a-bordered').text.split('\\n')\n",
        "\n",
        "specs_list = product_desc_list + tech_desc_list\n",
        "\n",
        "data_list = [line.strip() for line in specs_list if line.strip()]\n",
        "paired_data = [(data_list[i], data_list[i + 1]) for i in range(0, len(data_list) - 1, 2) if data_list[i] != 'See more']\n",
        "\n",
        "import csv\n",
        "\n",
        "filename = 'dataset.csv'\n",
        "header = ['Attribute', 'Value']\n",
        "\n",
        "with open(filename, 'w', newline='', encoding='UTF-8') as f:\n",
        "  writer = csv.writer(f)\n",
        "  writer.writerow(header)\n",
        "\n",
        "  for i in paired_data:\n",
        "    writer.writerow([i[0] , i[1]])\n",
        "\n",
        "\n",
        "import pandas as pd\n",
        "\n",
        "df = pd.read_csv('dataset.csv')\n",
        "print(df)"
      ],
      "metadata": {
        "id": "ED8GkGK7Lsup",
        "outputId": "064feb46-9625-4efb-c807-01c55d03f2c3",
        "colab": {
          "base_uri": "https://localhost:8080/"
        }
      },
      "execution_count": 125,
      "outputs": [
        {
          "output_type": "stream",
          "name": "stdout",
          "text": [
            "                                            Attribute  \\\n",
            "0                                               Brand   \n",
            "1                                          Model Name   \n",
            "2                            Network Service Provider   \n",
            "3                                    Operating System   \n",
            "4                                 Cellular Technology   \n",
            "5                                           iPhone 14   \n",
            "6                                       iPhone 14 Pro   \n",
            "7                                               Price   \n",
            "8                                                   -   \n",
            "9                                                   -   \n",
            "10                                                  -   \n",
            "11                                                  -   \n",
            "12                                 4.5 out of 5 stars   \n",
            "13                                 4.5 out of 5 stars   \n",
            "14                                 4.6 out of 5 stars   \n",
            "15                                 4.5 out of 5 stars   \n",
            "16                                            Display   \n",
            "17                  6.7-inch Super Retina XDR display   \n",
            "18   6.7-inch Super Retina XDR display with ProMotion   \n",
            "19      Dual 12MP camera system (Ultra Wide and Wide)   \n",
            "20  Pro 48MP camera system (Ultra Wide, Wide, and ...   \n",
            "21                                       Front Camera   \n",
            "22                              12MP TrueDepth camera   \n",
            "23                              12MP TrueDepth camera   \n",
            "24                                            Face ID   \n",
            "25                                            Face ID   \n",
            "26                                               Chip   \n",
            "27  A15 Bionic chip with 6-core CPU (2 performance...   \n",
            "28  A16 Bionic chip,6-core CPU with 2 performance ...   \n",
            "29  Rated IP68 (maximum depth of 6 meters up to 30...   \n",
            "30  Rated IP68 (maximum depth of 6 meters up to 30...   \n",
            "31                                           Charging   \n",
            "32  Compatible with MagSafe accessories and Qi wir...   \n",
            "\n",
            "                                                Value  \n",
            "0                                               Apple  \n",
            "1                                              iPhone  \n",
            "2                           Unlocked for All Carriers  \n",
            "3                                                 iOS  \n",
            "4                                                  5G  \n",
            "5                                      iPhone 14 Plus  \n",
            "6                                   iPhone 14 Pro Max  \n",
            "7                                               From:  \n",
            "8                                               From:  \n",
            "9                                               From:  \n",
            "10                                              From:  \n",
            "11                                            Ratings  \n",
            "12                                            (4,629)  \n",
            "13                                            (1,681)  \n",
            "14                                              (820)  \n",
            "15                                              (969)  \n",
            "16                  6.1-inch Super Retina XDR display  \n",
            "17   6.1-inch Super Retina XDR display with ProMotion  \n",
            "18                                             Camera  \n",
            "19      Dual 12MP camera system (Ultra Wide and Wide)  \n",
            "20  Pro 48MP camera system (Ultra Wide, Wide, and ...  \n",
            "21                              12MP TrueDepth camera  \n",
            "22                              12MP TrueDepth camera  \n",
            "23                                      Face/Touch ID  \n",
            "24                                            Face ID  \n",
            "25                                            Face ID  \n",
            "26  A15 Bionic chip with 6-core CPU (2 performance...  \n",
            "27  A16 Bionic chip,6-core CPU with 2 performance ...  \n",
            "28                                    Water resistant  \n",
            "29  Rated IP68 (maximum depth of 6 meters up to 30...  \n",
            "30  Rated IP68 (maximum depth of 6 meters up to 30...  \n",
            "31  Compatible with MagSafe accessories and Qi wir...  \n",
            "32  Compatible with MagSafe accessories and Qi wir...  \n"
          ]
        }
      ]
    }
  ],
  "metadata": {
    "language_info": {
      "name": "python"
    },
    "colab": {
      "provenance": [],
      "include_colab_link": true
    },
    "kernelspec": {
      "name": "python3",
      "display_name": "Python 3"
    }
  },
  "nbformat": 4,
  "nbformat_minor": 0
}