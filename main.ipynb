{
  "cells": [
    {
      "cell_type": "markdown",
      "metadata": {
        "id": "view-in-github",
        "colab_type": "text"
      },
      "source": [
        "<a href=\"https://colab.research.google.com/github/gnanaprakash2918/ReviewGPT/blob/main/main.ipynb\" target=\"_parent\"><img src=\"https://colab.research.google.com/assets/colab-badge.svg\" alt=\"Open In Colab\"/></a>"
      ]
    },
    {
      "cell_type": "code",
      "execution_count": 22,
      "metadata": {
        "id": "JR2SRlNY9vnz"
      },
      "outputs": [],
      "source": [
        "from bs4 import BeautifulSoup\n",
        "import requests\n",
        "import time\n",
        "import datetime"
      ]
    },
    {
      "cell_type": "code",
      "source": [
        "URL = \"https://www.amazon.in/Dell-R5-5500U-35-56cm-Spill-Resistant-Keyboard/dp/B0CLH81BGH/ref=sr_1_5?crid=2UJ5AYV2FNA4C&dib=eyJ2IjoiMSJ9.EfIPd8WYGUqxOThqsTjnbLVEdFaqg3D4uoLQL6y4UX4wuqTw7SEx77XYrvPEgXzXqJZDRGaFivcFn_tEto5iXeLVeTQGnS4LTT65Cc_ZrTtQDc_lmhsj2nf29TnNYME2DzTCKo-Imo69AuPEeePwtEDhSMJkh6MnB7lx9l7I0WhkRHVCBTsEhzi_PjAMbStmn12TGbVcpBkZ7nLKUFEQCgbr0ykqTgxpUiTi7JyJoOY.FHprEI1HcfRJ6SruEDaWg5zX5Z5f6CM19SnJ15s0m6M&dib_tag=se&keywords=dell+laptop&qid=1708609916&sprefix=dell%2Caps%2C257&sr=8-5\"\n",
        "\n",
        "# https://httpbin.org/get\n",
        "headers = {\n",
        "\"User-Agent\": \"Mozilla/5.0 (Windows NT 10.0; Win64; x64) AppleWebKit/537.36 (KHTML, like Gecko) Chrome/121.0.0.0 Safari/537.36\",\n",
        "    \"X-Amzn-Trace-Id\": \"Root=1-65d74d20-74b6a2084c7d3cc04a12444e\"\n",
        "}\n",
        "\n",
        "page = requests.get(URL, headers=headers)\n",
        "\n",
        "soup1 = BeautifulSoup(page.content, \"html.parser\")\n",
        "soup2 = BeautifulSoup(soup1.prettify(), \"html.parser\")\n",
        "\n",
        "title = soup2.find(id='productTitle').get_text().strip()\n",
        "price = soup2.find(\"span\", attrs={\"class\":\"a-offscreen\"}).text.strip()[1:]\n",
        "\n",
        "print(price)\n"
      ],
      "metadata": {
        "colab": {
          "base_uri": "https://localhost:8080/"
        },
        "id": "DtOcpQcVA_hv",
        "outputId": "21655326-4592-4fff-84e6-cd96adb150e0"
      },
      "execution_count": 38,
      "outputs": [
        {
          "output_type": "stream",
          "name": "stdout",
          "text": [
            "35,990.00\n"
          ]
        }
      ]
    },
    {
      "cell_type": "code",
      "source": [
        "import datetime\n",
        "\n",
        "today = datetime.date.today()\n",
        "print(today)"
      ],
      "metadata": {
        "id": "U1kYlUCTHCDw",
        "outputId": "e5bffb26-b99a-4076-9294-614a654fb72e",
        "colab": {
          "base_uri": "https://localhost:8080/"
        }
      },
      "execution_count": 42,
      "outputs": [
        {
          "output_type": "stream",
          "name": "stdout",
          "text": [
            "2024-02-22\n"
          ]
        }
      ]
    },
    {
      "cell_type": "code",
      "source": [
        "import csv\n",
        "\n",
        "filename = 'dataset.csv'\n",
        "header = ['Title', 'Price', 'Date']\n",
        "\n",
        "data = [title, price, today]\n",
        "\n",
        "with open(filename, 'w', newline='', encoding='UTF-8') as f:\n",
        "  writer = csv.writer(f)\n",
        "  writer.writerow(header)\n",
        "  writer.writerow(data)"
      ],
      "metadata": {
        "id": "86PJ9zbJFuqY"
      },
      "execution_count": 44,
      "outputs": []
    },
    {
      "cell_type": "code",
      "source": [
        "import pandas as pd\n",
        "\n",
        "df = pd.read_csv('dataset.csv')\n",
        "print(df)"
      ],
      "metadata": {
        "id": "enuZAEqEHeIv",
        "outputId": "1db9fbfd-bb5b-4611-aa60-6851719351ba",
        "colab": {
          "base_uri": "https://localhost:8080/"
        }
      },
      "execution_count": 45,
      "outputs": [
        {
          "output_type": "stream",
          "name": "stdout",
          "text": [
            "                                               Title      Price        Date\n",
            "0  Dell 14 Laptop, AMD Ryzen R5-5500U/ 8GB DDR4, ...  35,990.00  2024-02-22\n"
          ]
        }
      ]
    }
  ],
  "metadata": {
    "language_info": {
      "name": "python"
    },
    "colab": {
      "provenance": [],
      "include_colab_link": true
    },
    "kernelspec": {
      "name": "python3",
      "display_name": "Python 3"
    }
  },
  "nbformat": 4,
  "nbformat_minor": 0
}